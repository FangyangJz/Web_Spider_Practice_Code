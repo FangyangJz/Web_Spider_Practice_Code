{
 "cells": [
  {
   "cell_type": "code",
   "execution_count": 50,
   "metadata": {
    "ExecuteTime": {
     "end_time": "2018-03-18T17:31:43.798214Z",
     "start_time": "2018-03-18T17:31:43.791210Z"
    },
    "collapsed": false
   },
   "outputs": [
    {
     "name": "stdout",
     "output_type": "stream",
     "text": [
      "dfdf\n"
     ]
    }
   ],
   "source": [
    "# if 品种 in \n",
    "a = ['品种：苹果AP\\n\\xa0\\xa0\\xa0\\xa0日期：2018-03-16\\n']\n",
    "\n",
    "if '品种' in a[0]:\n",
    "    print('dfdf')\n"
   ]
  },
  {
   "cell_type": "code",
   "execution_count": 44,
   "metadata": {
    "ExecuteTime": {
     "end_time": "2018-03-18T17:21:43.225335Z",
     "start_time": "2018-03-18T17:21:43.218830Z"
    },
    "collapsed": false
   },
   "outputs": [
    {
     "data": {
      "text/plain": [
       "['品种：苹果AP', '日期：2018-03-16']"
      ]
     },
     "execution_count": 44,
     "metadata": {},
     "output_type": "execute_result"
    }
   ],
   "source": [
    "a = a[0].split()\n",
    "a"
   ]
  },
  {
   "cell_type": "code",
   "execution_count": 45,
   "metadata": {
    "ExecuteTime": {
     "end_time": "2018-03-18T17:21:43.773362Z",
     "start_time": "2018-03-18T17:21:43.765357Z"
    },
    "collapsed": false
   },
   "outputs": [
    {
     "data": {
      "text/plain": [
       "[['品种', '苹果AP'], ['日期', '2018-03-16']]"
      ]
     },
     "execution_count": 45,
     "metadata": {},
     "output_type": "execute_result"
    }
   ],
   "source": [
    "a = [x.split('：') for x in a]\n",
    "a"
   ]
  },
  {
   "cell_type": "code",
   "execution_count": 48,
   "metadata": {
    "ExecuteTime": {
     "end_time": "2018-03-18T17:28:41.835434Z",
     "start_time": "2018-03-18T17:28:41.820425Z"
    },
    "collapsed": false
   },
   "outputs": [
    {
     "data": {
      "text/plain": [
       "{'品种': '苹果AP', '日期': '2018-03-16'}"
      ]
     },
     "execution_count": 48,
     "metadata": {},
     "output_type": "execute_result"
    }
   ],
   "source": [
    "xx = [['品种', '苹果AP'], ['日期', '2018-03-16']]\n",
    "\n",
    "def list_to_dict(xx):\n",
    "    \n",
    "    dict_xx = {}\n",
    "    \n",
    "    for i in xx:    \n",
    "        dict_xx.update({i[0]:i[1]})\n",
    "    return dict_xx\n",
    "\n",
    "list_to_dict(xx)"
   ]
  },
  {
   "cell_type": "code",
   "execution_count": null,
   "metadata": {
    "ExecuteTime": {
     "end_time": "2018-03-18T17:22:41.016827Z",
     "start_time": "2018-03-18T17:22:41.007821Z"
    },
    "collapsed": false
   },
   "outputs": [],
   "source": []
  },
  {
   "cell_type": "code",
   "execution_count": 23,
   "metadata": {
    "ExecuteTime": {
     "end_time": "2018-03-18T17:08:30.496869Z",
     "start_time": "2018-03-18T17:08:30.488860Z"
    },
    "collapsed": true
   },
   "outputs": [],
   "source": [
    "import json"
   ]
  },
  {
   "cell_type": "code",
   "execution_count": 27,
   "metadata": {
    "ExecuteTime": {
     "end_time": "2018-03-18T17:12:27.355308Z",
     "start_time": "2018-03-18T17:12:27.343800Z"
    },
    "collapsed": false
   },
   "outputs": [
    {
     "data": {
      "text/plain": [
       "'[[\"\\\\u54c1\\\\u79cd\", \"\\\\u82f9\\\\u679cAP\"], [\"\\\\u65e5\\\\u671f\", \"2018-03-16\"]]'"
      ]
     },
     "execution_count": 27,
     "metadata": {},
     "output_type": "execute_result"
    }
   ],
   "source": [
    "b = json.dumps(a)\n",
    "b"
   ]
  },
  {
   "cell_type": "code",
   "execution_count": 29,
   "metadata": {
    "ExecuteTime": {
     "end_time": "2018-03-18T17:12:59.615031Z",
     "start_time": "2018-03-18T17:12:59.603023Z"
    },
    "collapsed": false
   },
   "outputs": [
    {
     "data": {
      "text/plain": [
       "[['品种', '苹果AP'], ['日期', '2018-03-16']]"
      ]
     },
     "execution_count": 29,
     "metadata": {},
     "output_type": "execute_result"
    }
   ],
   "source": [
    "json.loads(b)"
   ]
  },
  {
   "cell_type": "code",
   "execution_count": 51,
   "metadata": {
    "ExecuteTime": {
     "end_time": "2018-03-18T18:00:33.872157Z",
     "start_time": "2018-03-18T18:00:33.854643Z"
    },
    "collapsed": false
   },
   "outputs": [
    {
     "data": {
      "text/plain": [
       "{' 会员简称 ': '光大期货',\n",
       " ' 名次 ': '1',\n",
       " ' 增减量': '329',\n",
       " ' 成交量（手）': '42,466',\n",
       " ' 持买仓量': '3,354',\n",
       " ' 持卖仓量': '3,188'}"
      ]
     },
     "execution_count": 51,
     "metadata": {},
     "output_type": "execute_result"
    }
   ],
   "source": [
    "a1 = {'品种': '苹果AP', '日期': '2018-03-16'}\n",
    "a2 = [' 名次 ', ' 会员简称 ', ' 成交量（手）', ' 增减量', ' 会员简称 ', ' 持买仓量', ' 增减量', ' 会员简称 ', ' 持卖仓量', ' 增减量']\n",
    "a3 = ['1', '中银国际', '42,466', '7,247', '徽商期货', '3,354', '759', '光大期货', '3,188', '329']\n",
    "a4 = ['2', '兴证期货', '39,059', '12,916', '银河期货', '2,463', '112', '徽商期货', '2,535', '500']\n",
    "\n",
    "dict(zip(a2,a3))"
   ]
  },
  {
   "cell_type": "code",
   "execution_count": 54,
   "metadata": {
    "ExecuteTime": {
     "end_time": "2018-03-18T18:09:44.245491Z",
     "start_time": "2018-03-18T18:09:44.240488Z"
    },
    "collapsed": true
   },
   "outputs": [],
   "source": [
    "import pandas as pd\n",
    "import numpy as np"
   ]
  },
  {
   "cell_type": "code",
   "execution_count": 81,
   "metadata": {
    "ExecuteTime": {
     "end_time": "2018-03-18T18:19:27.380187Z",
     "start_time": "2018-03-18T18:19:27.372182Z"
    },
    "collapsed": false
   },
   "outputs": [
    {
     "data": {
      "text/plain": [
       "array([['1'],\n",
       "       ['中银国际'],\n",
       "       ['42,466'],\n",
       "       ['7,247'],\n",
       "       ['徽商期货'],\n",
       "       ['3,354'],\n",
       "       ['759'],\n",
       "       ['光大期货'],\n",
       "       ['3,188'],\n",
       "       ['329']],\n",
       "      dtype='<U6')"
      ]
     },
     "execution_count": 81,
     "metadata": {},
     "output_type": "execute_result"
    }
   ],
   "source": [
    "Se1 = np.array(a3).reshape((10,1))\n",
    "\n",
    "Se1"
   ]
  },
  {
   "cell_type": "code",
   "execution_count": 117,
   "metadata": {
    "ExecuteTime": {
     "end_time": "2018-03-19T03:01:12.729460Z",
     "start_time": "2018-03-19T03:01:12.716452Z"
    },
    "collapsed": false
   },
   "outputs": [],
   "source": [
    "a1 = {'品种':['棉纱CY'], '日期':['2018-03-16']}\n",
    "a2 = [' 名次 ', ' 会员简称 ', ' 成交量（手）', ' 增减量', ' 会员简称 ', ' 持买仓量', ' 增减量', ' 会员简称 ', ' 持卖仓量', ' 增减量']\n",
    "a3 = ['1', '中银国际', '42,466', '7,247', '徽商期货', '3,354', '759', '光大期货', '3,188', '329']\n",
    "a4 = ['2', '兴证期货', '39,059', '12,916', '银河期货', '2,463', '112', '徽商期货', '2,535', '500']"
   ]
  },
  {
   "cell_type": "code",
   "execution_count": 142,
   "metadata": {
    "ExecuteTime": {
     "end_time": "2018-03-19T09:33:52.587646Z",
     "start_time": "2018-03-19T09:33:52.559119Z"
    },
    "collapsed": false
   },
   "outputs": [
    {
     "data": {
      "text/html": [
       "<div>\n",
       "<style>\n",
       "    .dataframe thead tr:only-child th {\n",
       "        text-align: right;\n",
       "    }\n",
       "\n",
       "    .dataframe thead th {\n",
       "        text-align: left;\n",
       "    }\n",
       "\n",
       "    .dataframe tbody tr th {\n",
       "        vertical-align: top;\n",
       "    }\n",
       "</style>\n",
       "<table border=\"1\" class=\"dataframe\">\n",
       "  <thead>\n",
       "    <tr style=\"text-align: right;\">\n",
       "      <th></th>\n",
       "      <th>名次</th>\n",
       "      <th>会员简称</th>\n",
       "      <th>成交量（手）</th>\n",
       "      <th>增减量</th>\n",
       "      <th>会员简称</th>\n",
       "      <th>持买仓量</th>\n",
       "      <th>增减量</th>\n",
       "      <th>会员简称</th>\n",
       "      <th>持卖仓量</th>\n",
       "      <th>增减量</th>\n",
       "    </tr>\n",
       "  </thead>\n",
       "  <tbody>\n",
       "    <tr>\n",
       "      <th>0</th>\n",
       "      <td>1</td>\n",
       "      <td>中银国际</td>\n",
       "      <td>42,466</td>\n",
       "      <td>7,247</td>\n",
       "      <td>徽商期货</td>\n",
       "      <td>3,354</td>\n",
       "      <td>759</td>\n",
       "      <td>光大期货</td>\n",
       "      <td>3,188</td>\n",
       "      <td>329</td>\n",
       "    </tr>\n",
       "    <tr>\n",
       "      <th>0</th>\n",
       "      <td>1</td>\n",
       "      <td>中银国际</td>\n",
       "      <td>42,466</td>\n",
       "      <td>7,247</td>\n",
       "      <td>徽商期货</td>\n",
       "      <td>3,354</td>\n",
       "      <td>759</td>\n",
       "      <td>光大期货</td>\n",
       "      <td>3,188</td>\n",
       "      <td>329</td>\n",
       "    </tr>\n",
       "  </tbody>\n",
       "</table>\n",
       "</div>"
      ],
      "text/plain": [
       "   名次   会员简称   成交量（手）    增减量  会员简称    持买仓量  增减量  会员简称    持卖仓量  增减量\n",
       "0    1   中银国际  42,466  7,247   徽商期货  3,354  759   光大期货  3,188  329\n",
       "0    1   中银国际  42,466  7,247   徽商期货  3,354  759   光大期货  3,188  329"
      ]
     },
     "execution_count": 142,
     "metadata": {},
     "output_type": "execute_result"
    }
   ],
   "source": [
    "df1 = pd.DataFrame(np.array(a3).reshape(1,10),columns=a2)\n",
    "df2 = pd.concat([df1,df1],axis=0)\n",
    "df2.drop"
   ]
  },
  {
   "cell_type": "code",
   "execution_count": 109,
   "metadata": {
    "ExecuteTime": {
     "end_time": "2018-03-19T02:55:17.484808Z",
     "start_time": "2018-03-19T02:55:17.470796Z"
    },
    "collapsed": false
   },
   "outputs": [
    {
     "name": "stdout",
     "output_type": "stream",
     "text": [
      "1\n",
      "42466\n"
     ]
    }
   ],
   "source": [
    "# 将数字字符串中的逗号去掉\n",
    "def numstring_to_int(numstring):\n",
    "    return int(numstring.replace(',',''))\n",
    "\n",
    "print(numstring_to_int(a3[0]))\n",
    "print(numstring_to_int(a3[2]))"
   ]
  },
  {
   "cell_type": "code",
   "execution_count": 128,
   "metadata": {
    "ExecuteTime": {
     "end_time": "2018-03-19T03:07:46.129673Z",
     "start_time": "2018-03-19T03:07:46.115164Z"
    },
    "collapsed": false
   },
   "outputs": [
    {
     "data": {
      "text/html": [
       "<div>\n",
       "<style>\n",
       "    .dataframe thead tr:only-child th {\n",
       "        text-align: right;\n",
       "    }\n",
       "\n",
       "    .dataframe thead th {\n",
       "        text-align: left;\n",
       "    }\n",
       "\n",
       "    .dataframe tbody tr th {\n",
       "        vertical-align: top;\n",
       "    }\n",
       "</style>\n",
       "<table border=\"1\" class=\"dataframe\">\n",
       "  <thead>\n",
       "    <tr style=\"text-align: right;\">\n",
       "      <th></th>\n",
       "      <th>品种</th>\n",
       "      <th>日期</th>\n",
       "    </tr>\n",
       "  </thead>\n",
       "  <tbody>\n",
       "    <tr>\n",
       "      <th>0</th>\n",
       "      <td>棉纱CY</td>\n",
       "      <td>2018-03-16</td>\n",
       "    </tr>\n",
       "  </tbody>\n",
       "</table>\n",
       "</div>"
      ],
      "text/plain": [
       "     品种          日期\n",
       "0  棉纱CY  2018-03-16"
      ]
     },
     "execution_count": 128,
     "metadata": {},
     "output_type": "execute_result"
    }
   ],
   "source": [
    "# a1 = {'品种':'棉纱CY', '日期':'2018-03-16'}\n",
    "# a1 = {key:[value] for key,value in zip(a1.keys(), a1.values())}\n",
    "df1 = pd.DataFrame(a1)\n",
    "df1"
   ]
  },
  {
   "cell_type": "code",
   "execution_count": 137,
   "metadata": {
    "ExecuteTime": {
     "end_time": "2018-03-19T03:48:29.577717Z",
     "start_time": "2018-03-19T03:48:29.545188Z"
    },
    "collapsed": false
   },
   "outputs": [
    {
     "data": {
      "text/html": [
       "<div>\n",
       "<style>\n",
       "    .dataframe thead tr:only-child th {\n",
       "        text-align: right;\n",
       "    }\n",
       "\n",
       "    .dataframe thead th {\n",
       "        text-align: left;\n",
       "    }\n",
       "\n",
       "    .dataframe tbody tr th {\n",
       "        vertical-align: top;\n",
       "    }\n",
       "</style>\n",
       "<table border=\"1\" class=\"dataframe\">\n",
       "  <thead>\n",
       "    <tr style=\"text-align: right;\">\n",
       "      <th></th>\n",
       "      <th>品种</th>\n",
       "      <th>日期</th>\n",
       "      <th>名次</th>\n",
       "      <th>会员简称</th>\n",
       "      <th>成交量（手）</th>\n",
       "      <th>增减量</th>\n",
       "      <th>会员简称</th>\n",
       "      <th>持买仓量</th>\n",
       "      <th>增减量</th>\n",
       "      <th>会员简称</th>\n",
       "      <th>持卖仓量</th>\n",
       "      <th>增减量</th>\n",
       "    </tr>\n",
       "  </thead>\n",
       "  <tbody>\n",
       "    <tr>\n",
       "      <th>0</th>\n",
       "      <td>棉纱CY</td>\n",
       "      <td>2018-03-16</td>\n",
       "      <td>1</td>\n",
       "      <td>中银国际</td>\n",
       "      <td>42,466</td>\n",
       "      <td>7,247</td>\n",
       "      <td>徽商期货</td>\n",
       "      <td>3,354</td>\n",
       "      <td>759</td>\n",
       "      <td>光大期货</td>\n",
       "      <td>3,188</td>\n",
       "      <td>329</td>\n",
       "    </tr>\n",
       "    <tr>\n",
       "      <th>0</th>\n",
       "      <td>棉纱CY</td>\n",
       "      <td>2018-03-16</td>\n",
       "      <td>1</td>\n",
       "      <td>中银国际</td>\n",
       "      <td>42,466</td>\n",
       "      <td>7,247</td>\n",
       "      <td>徽商期货</td>\n",
       "      <td>3,354</td>\n",
       "      <td>759</td>\n",
       "      <td>光大期货</td>\n",
       "      <td>3,188</td>\n",
       "      <td>329</td>\n",
       "    </tr>\n",
       "  </tbody>\n",
       "</table>\n",
       "</div>"
      ],
      "text/plain": [
       "     品种          日期  名次   会员简称   成交量（手）    增减量  会员简称    持买仓量  增减量  会员简称   \\\n",
       "0  棉纱CY  2018-03-16    1   中银国际  42,466  7,247   徽商期货  3,354  759   光大期货   \n",
       "0  棉纱CY  2018-03-16    1   中银国际  42,466  7,247   徽商期货  3,354  759   光大期货   \n",
       "\n",
       "    持卖仓量  增减量  \n",
       "0  3,188  329  \n",
       "0  3,188  329  "
      ]
     },
     "execution_count": 137,
     "metadata": {},
     "output_type": "execute_result"
    }
   ],
   "source": [
    "dfa1 = pd.concat([df1,df],axis=1)\n",
    "dfa2 = dfa1\n",
    "pd.concat([dfa1,dfa2],axis=0)"
   ]
  },
  {
   "cell_type": "code",
   "execution_count": 152,
   "metadata": {
    "ExecuteTime": {
     "end_time": "2018-03-19T12:58:17.355017Z",
     "start_time": "2018-03-19T12:58:17.340506Z"
    },
    "collapsed": false
   },
   "outputs": [
    {
     "data": {
      "text/plain": [
       "RangeIndex(start=0, stop=1, step=1)"
      ]
     },
     "execution_count": 152,
     "metadata": {},
     "output_type": "execute_result"
    }
   ],
   "source": [
    "dfa2.index"
   ]
  },
  {
   "cell_type": "code",
   "execution_count": 135,
   "metadata": {
    "ExecuteTime": {
     "end_time": "2018-03-19T03:29:51.259338Z",
     "start_time": "2018-03-19T03:29:51.247827Z"
    },
    "collapsed": false
   },
   "outputs": [
    {
     "data": {
      "text/plain": [
       "{'品种': ['棉纱CY'], '日期': ['2018-03-16']}"
      ]
     },
     "execution_count": 135,
     "metadata": {},
     "output_type": "execute_result"
    }
   ],
   "source": [
    "a1 = {'品种':['棉纱CY'], '日期':['2018-03-16']}\n",
    "b1 = a1\n",
    "a1 = {}\n",
    "b1"
   ]
  },
  {
   "cell_type": "code",
   "execution_count": 145,
   "metadata": {
    "ExecuteTime": {
     "end_time": "2018-03-19T12:26:00.240584Z",
     "start_time": "2018-03-19T12:26:00.232579Z"
    },
    "collapsed": false
   },
   "outputs": [
    {
     "name": "stdout",
     "output_type": "stream",
     "text": [
      "None\n"
     ]
    }
   ],
   "source": [
    "def xxx(tr):\n",
    "    if tr is 3:\n",
    "        return tr\n",
    "a = xxx(5)\n",
    "print(a)"
   ]
  },
  {
   "cell_type": "code",
   "execution_count": 153,
   "metadata": {
    "ExecuteTime": {
     "end_time": "2018-03-19T13:17:38.970154Z",
     "start_time": "2018-03-19T13:17:38.963649Z"
    },
    "collapsed": true
   },
   "outputs": [],
   "source": [
    "import json"
   ]
  },
  {
   "cell_type": "code",
   "execution_count": null,
   "metadata": {
    "collapsed": true
   },
   "outputs": [],
   "source": [
    "db.zhengzhou.insert(json.loads(i.to_json(orient='records')))"
   ]
  }
 ],
 "metadata": {
  "kernelspec": {
   "display_name": "Mypython3",
   "language": "python",
   "name": "mypython3"
  },
  "language_info": {
   "codemirror_mode": {
    "name": "ipython",
    "version": 3
   },
   "file_extension": ".py",
   "mimetype": "text/x-python",
   "name": "python",
   "nbconvert_exporter": "python",
   "pygments_lexer": "ipython3",
   "version": "3.6.3"
  },
  "latex_envs": {
   "LaTeX_envs_menu_present": true,
   "autoclose": false,
   "autocomplete": true,
   "bibliofile": "biblio.bib",
   "cite_by": "apalike",
   "current_citInitial": 1.0,
   "eqLabelWithNumbers": true,
   "eqNumInitial": 1.0,
   "hotkeys": {
    "equation": "Ctrl-E",
    "itemize": "Ctrl-I"
   },
   "labels_anchors": false,
   "latex_user_defs": false,
   "report_style_numbering": false,
   "user_envs_cfg": false
  },
  "nbTranslate": {
   "displayLangs": [
    "*"
   ],
   "hotkey": "alt-t",
   "langInMainMenu": true,
   "sourceLang": "en",
   "targetLang": "fr",
   "useGoogleTranslate": true
  },
  "toc": {
   "nav_menu": {},
   "number_sections": true,
   "sideBar": true,
   "skip_h1_title": false,
   "toc_cell": false,
   "toc_position": {},
   "toc_section_display": "block",
   "toc_window_display": false
  },
  "varInspector": {
   "cols": {
    "lenName": 16.0,
    "lenType": 16.0,
    "lenVar": 40.0
   },
   "kernels_config": {
    "python": {
     "delete_cmd_postfix": "",
     "delete_cmd_prefix": "del ",
     "library": "var_list.py",
     "varRefreshCmd": "print(var_dic_list())"
    },
    "r": {
     "delete_cmd_postfix": ") ",
     "delete_cmd_prefix": "rm(",
     "library": "var_list.r",
     "varRefreshCmd": "cat(var_dic_list()) "
    }
   },
   "types_to_exclude": [
    "module",
    "function",
    "builtin_function_or_method",
    "instance",
    "_Feature"
   ],
   "window_display": false
  }
 },
 "nbformat": 4,
 "nbformat_minor": 2
}
